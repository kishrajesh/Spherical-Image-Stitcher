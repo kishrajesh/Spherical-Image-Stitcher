{
 "cells": [
  {
   "cell_type": "code",
   "execution_count": 1,
   "metadata": {},
   "outputs": [],
   "source": [
    "import cv2\n",
    "import os\n",
    "from os import listdir\n",
    "import numpy as np\n",
    "from stitching import Stitcher"
   ]
  },
  {
   "cell_type": "code",
   "execution_count": 2,
   "metadata": {},
   "outputs": [],
   "source": [
    "grails = []\n",
    "folder_dir = \"lounge\"\n",
    "for image in sorted(os.listdir(folder_dir)):\n",
    "    if (image.endswith(\".jpg\")):\n",
    "        img = cv2.imread(folder_dir+\"/\"+image)\n",
    "        grails.append(img)\n",
    "stitcher = Stitcher(\n",
    "    detector=\"sift\",\n",
    "    confidence_threshold=0.01,  \n",
    "    matcher_type='homography',\n",
    "    range_width=-1,\n",
    "    crop=True\n",
    ")\n",
    "\n",
    "try:\n",
    "    # Add error handling for the stitching process\n",
    "    panorama = stitcher.stitch(grails)\n",
    "    if panorama is not None:\n",
    "        cv2.imwrite(folder_dir+'_pano.jpg', panorama)\n",
    "    else:\n",
    "        print(\"Stitching failed - no panorama was created\")\n",
    "except Exception as e:\n",
    "    print(f\"Error during stitching: {str(e)}\")"
   ]
  },
  {
   "cell_type": "code",
   "execution_count": 3,
   "metadata": {},
   "outputs": [],
   "source": [
    "def resize(path, new_path):\n",
    "    image = cv2.imread(path)\n",
    "    height, width, dim = image.shape\n",
    "    bot_mid = np.mean(image[-1:, :, :], axis=(0, 1))\n",
    "    top_mid = np.mean(image[:1, :, :], axis=(0, 1))\n",
    "    new_height = width//2 #equirectangular image is 2:1\n",
    "    new_image = bot_mid*np.ones((new_height, width, dim), dtype=np.uint8) #creating blank image\n",
    "    new_image[:new_height//2, :, :] = top_mid*np.ones((new_height//2, width, dim), dtype=np.uint8)\n",
    "    bot, top = (new_height-height)//2, (new_height+height)//2 #center original image in center\n",
    "    new_image[bot:top, : , :] = image\n",
    "    cv2.imwrite(new_path, new_image)\n",
    "\n",
    "resize(folder_dir+\"_pano.jpg\", folder_dir+\"_resized.jpg\")"
   ]
  },
  {
   "cell_type": "code",
   "execution_count": null,
   "metadata": {},
   "outputs": [],
   "source": []
  }
 ],
 "metadata": {
  "kernelspec": {
   "display_name": "pano_env",
   "language": "python",
   "name": "python3"
  },
  "language_info": {
   "codemirror_mode": {
    "name": "ipython",
    "version": 3
   },
   "file_extension": ".py",
   "mimetype": "text/x-python",
   "name": "python",
   "nbconvert_exporter": "python",
   "pygments_lexer": "ipython3",
   "version": "3.9.19"
  }
 },
 "nbformat": 4,
 "nbformat_minor": 2
}
